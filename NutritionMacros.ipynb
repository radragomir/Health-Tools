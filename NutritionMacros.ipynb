{
 "cells": [
  {
   "cell_type": "markdown",
   "metadata": {},
   "source": [
    "# Make a Pie Chart of Macronutrition from Food Data"
   ]
  },
  {
   "cell_type": "code",
   "execution_count": 5,
   "metadata": {},
   "outputs": [],
   "source": [
    "import numpy as np\n",
    "import pandas as pd\n",
    "import matplotlib.pyplot as plt\n",
    "import seaborn as sns"
   ]
  },
  {
   "cell_type": "code",
   "execution_count": 6,
   "metadata": {},
   "outputs": [],
   "source": [
    "import lxml\n",
    "import html5lib\n",
    "import requests\n",
    "import urllib.request\n",
    "from bs4 import BeautifulSoup\n",
    "import re"
   ]
  },
  {
   "cell_type": "code",
   "execution_count": 7,
   "metadata": {},
   "outputs": [],
   "source": [
    "#Webscraping data table\n",
    "url = \"https://tools.myfooddata.com/nutrition-facts.php?food=170567&serv=wt5&qty=1\"\n",
    "#send request\n",
    "page = requests.get(url)\n",
    "soup = BeautifulSoup(page.text, 'html.parser')\n",
    "table_elem = soup.find_all('tr') #table elements in html start with tr class\n",
    "\n",
    "#read table from website and save data in an array\n",
    "tablee = []\n",
    "for i in range(len(table_elem)):\n",
    "    item = table_elem[i]\n",
    "    if i <= 19:\n",
    "        #split data at numbers, include decimal points\n",
    "        tablee.append(list(filter(None, re.split(r'(\\d*\\.?\\d+)', item.text))))\n",
    "#print(tablee)"
   ]
  },
  {
   "cell_type": "code",
   "execution_count": 8,
   "metadata": {},
   "outputs": [
    {
     "name": "stdout",
     "output_type": "stream",
     "text": [
      "['Name', 'Amount', 'Unit', 'DV', '%', 'none']\n"
     ]
    },
    {
     "data": {
      "text/html": [
       "<div>\n",
       "<style scoped>\n",
       "    .dataframe tbody tr th:only-of-type {\n",
       "        vertical-align: middle;\n",
       "    }\n",
       "\n",
       "    .dataframe tbody tr th {\n",
       "        vertical-align: top;\n",
       "    }\n",
       "\n",
       "    .dataframe thead th {\n",
       "        text-align: right;\n",
       "    }\n",
       "</style>\n",
       "<table border=\"1\" class=\"dataframe\">\n",
       "  <thead>\n",
       "    <tr style=\"text-align: right;\">\n",
       "      <th></th>\n",
       "      <th>Amount</th>\n",
       "      <th>Unit</th>\n",
       "      <th>DV</th>\n",
       "      <th>%</th>\n",
       "      <th>none</th>\n",
       "    </tr>\n",
       "    <tr>\n",
       "      <th>Name</th>\n",
       "      <th></th>\n",
       "      <th></th>\n",
       "      <th></th>\n",
       "      <th></th>\n",
       "      <th></th>\n",
       "    </tr>\n",
       "  </thead>\n",
       "  <tbody>\n",
       "    <tr>\n",
       "      <th>Calories</th>\n",
       "      <td>164</td>\n",
       "      <td>None</td>\n",
       "      <td>None</td>\n",
       "      <td>None</td>\n",
       "      <td>None</td>\n",
       "    </tr>\n",
       "    <tr>\n",
       "      <th>Total Fat</th>\n",
       "      <td>14.2</td>\n",
       "      <td>g</td>\n",
       "      <td>22</td>\n",
       "      <td>%</td>\n",
       "      <td>None</td>\n",
       "    </tr>\n",
       "    <tr>\n",
       "      <th>Saturated Fat</th>\n",
       "      <td>1.1</td>\n",
       "      <td>g</td>\n",
       "      <td>5</td>\n",
       "      <td>%</td>\n",
       "      <td>None</td>\n",
       "    </tr>\n",
       "    <tr>\n",
       "      <th>Trans Fat</th>\n",
       "      <td>0</td>\n",
       "      <td>g</td>\n",
       "      <td>None</td>\n",
       "      <td>None</td>\n",
       "      <td>None</td>\n",
       "    </tr>\n",
       "    <tr>\n",
       "      <th>Cholesterol</th>\n",
       "      <td>0</td>\n",
       "      <td>mg</td>\n",
       "      <td>0</td>\n",
       "      <td>%</td>\n",
       "      <td>None</td>\n",
       "    </tr>\n",
       "    <tr>\n",
       "      <th>Sodium</th>\n",
       "      <td>0.3</td>\n",
       "      <td>mg</td>\n",
       "      <td>0</td>\n",
       "      <td>%</td>\n",
       "      <td>None</td>\n",
       "    </tr>\n",
       "    <tr>\n",
       "      <th>Total Carbohydrate</th>\n",
       "      <td>6.1</td>\n",
       "      <td>g</td>\n",
       "      <td>2</td>\n",
       "      <td>%</td>\n",
       "      <td>None</td>\n",
       "    </tr>\n",
       "    <tr>\n",
       "      <th>Dietary Fiber</th>\n",
       "      <td>3.6</td>\n",
       "      <td>g</td>\n",
       "      <td>14</td>\n",
       "      <td>%</td>\n",
       "      <td>None</td>\n",
       "    </tr>\n",
       "    <tr>\n",
       "      <th>Total Sugars</th>\n",
       "      <td>1.2</td>\n",
       "      <td>g</td>\n",
       "      <td>2</td>\n",
       "      <td>%</td>\n",
       "      <td>None</td>\n",
       "    </tr>\n",
       "    <tr>\n",
       "      <th>Protein</th>\n",
       "      <td>6</td>\n",
       "      <td>g</td>\n",
       "      <td>12</td>\n",
       "      <td>%</td>\n",
       "      <td>None</td>\n",
       "    </tr>\n",
       "    <tr>\n",
       "      <th>Vitamin D</th>\n",
       "      <td>0</td>\n",
       "      <td>mcg</td>\n",
       "      <td>0</td>\n",
       "      <td>%</td>\n",
       "      <td>None</td>\n",
       "    </tr>\n",
       "    <tr>\n",
       "      <th>Iron</th>\n",
       "      <td>1.1</td>\n",
       "      <td>mg</td>\n",
       "      <td>6</td>\n",
       "      <td>%</td>\n",
       "      <td>None</td>\n",
       "    </tr>\n",
       "    <tr>\n",
       "      <th>Calcium</th>\n",
       "      <td>76.4</td>\n",
       "      <td>mg</td>\n",
       "      <td>6</td>\n",
       "      <td>%</td>\n",
       "      <td>None</td>\n",
       "    </tr>\n",
       "    <tr>\n",
       "      <th>Potassium</th>\n",
       "      <td>208.2</td>\n",
       "      <td>mg</td>\n",
       "      <td>4</td>\n",
       "      <td>%</td>\n",
       "      <td>None</td>\n",
       "    </tr>\n",
       "    <tr>\n",
       "      <th>Phosphorus</th>\n",
       "      <td>136.6</td>\n",
       "      <td>mg</td>\n",
       "      <td>11</td>\n",
       "      <td>%</td>\n",
       "      <td>None</td>\n",
       "    </tr>\n",
       "  </tbody>\n",
       "</table>\n",
       "</div>"
      ],
      "text/plain": [
       "                    Amount  Unit    DV     %  none\n",
       "Name                                              \n",
       "Calories               164  None  None  None  None\n",
       "Total Fat             14.2     g    22     %  None\n",
       "Saturated Fat          1.1     g     5     %  None\n",
       "Trans Fat                0     g  None  None  None\n",
       "Cholesterol              0    mg     0     %  None\n",
       "Sodium                 0.3    mg     0     %  None\n",
       "Total Carbohydrate     6.1     g     2     %  None\n",
       "Dietary Fiber          3.6     g    14     %  None\n",
       "Total Sugars           1.2     g     2     %  None\n",
       "Protein                  6     g    12     %  None\n",
       "Vitamin D                0   mcg     0     %  None\n",
       "Iron                   1.1    mg     6     %  None\n",
       "Calcium               76.4    mg     6     %  None\n",
       "Potassium            208.2    mg     4     %  None\n",
       "Phosphorus           136.6    mg    11     %  None"
      ]
     },
     "execution_count": 8,
     "metadata": {},
     "output_type": "execute_result"
    }
   ],
   "source": [
    "#make a dataframe from array\n",
    "colnams = 'Name Amount Unit DV % none'.split()\n",
    "print(colnams)\n",
    "df = pd.DataFrame(tablee, columns=colnams)\n",
    "servings=pd.to_numeric(df.iloc[2][4])#serving size needed for calculation by mass\n",
    "df.drop([0,1,2,3, 5], inplace=True)\n",
    "df.set_index('Name', inplace = True)\n",
    "df"
   ]
  },
  {
   "cell_type": "code",
   "execution_count": 11,
   "metadata": {},
   "outputs": [
    {
     "name": "stdout",
     "output_type": "stream",
     "text": [
      "Index(['Calories', 'Total Fat ', 'Saturated Fat ', 'Trans Fat ',\n",
      "       'Cholesterol ', 'Sodium ', 'Total Carbohydrate ', 'Dietary Fiber ',\n",
      "       'Total Sugars ', 'Protein ', 'Vitamin D ', 'Iron ', 'Calcium ',\n",
      "       'Potassium ', 'Phosphorus '],\n",
      "      dtype='object', name='Name')\n"
     ]
    }
   ],
   "source": [
    "df['Amount']= pd.to_numeric(df['Amount']) #change data read as string to numeric\n",
    "print(df.index)"
   ]
  },
  {
   "cell_type": "code",
   "execution_count": 12,
   "metadata": {},
   "outputs": [
    {
     "data": {
      "text/plain": [
       "(0.7898640296662547, 0.061804697156983925, 0.14833127317676145)"
      ]
     },
     "execution_count": 12,
     "metadata": {},
     "output_type": "execute_result"
    }
   ],
   "source": [
    "#make a function that takes our dataframe and outputs macronutrient composition\n",
    "def macros(df):\n",
    "    \"\"\"Input a dataframe that has the indices: Dietary Fiber , Total Fat , Total Carbohydrate , and Protein .\n",
    "    Calculates Calories as 9*fat + 4*Net Carbs + 4*Protein where net carbs are total carbs - fiber. \n",
    "    Shows the calorie contribution of each fat, net carbs, and protein out of the total calories.\n",
    "    \"\"\"\n",
    "    fiber = df.loc['Dietary Fiber '][0]\n",
    "    f=df.loc['Total Fat '][0]\n",
    "    c=df.loc['Total Carbohydrate '][0]\n",
    "    p=df.loc['Protein '][0]\n",
    "    #cal=df.loc['Calories'][0]\n",
    "    cal = f * 9 + (c-fiber) * 4 + p * 4 #more consistent, makes it out of 1\n",
    "    \n",
    "    fat= f * 9 / cal\n",
    "    carb= (c-fiber) * 4 / cal\n",
    "    prot= p * 4 / cal\n",
    "    #water = (servings - ( f+c+p)) / servings #need to add micronutrients\n",
    "    return ( fat,carb,prot)\n",
    "\n",
    "macros(df)"
   ]
  },
  {
   "cell_type": "code",
   "execution_count": 13,
   "metadata": {},
   "outputs": [
    {
     "data": {
      "text/plain": [
       "([<matplotlib.patches.Wedge at 0x137ac474198>,\n",
       "  <matplotlib.patches.Wedge at 0x137ac474b38>,\n",
       "  <matplotlib.patches.Wedge at 0x137ac484518>],\n",
       " [Text(-0.735893505080146, -0.9478716944718085, 'fat'),\n",
       "  Text(1.0833196647949612, 0.5161574409698393, 'carbs'),\n",
       "  Text(0.539176048635261, 1.0720490607141386, 'protein')],\n",
       " [Text(-0.4292712112967517, -0.5529251551085549, '79.0%'),\n",
       "  Text(0.631936471130394, 0.30109184056573957, '6.2%'),\n",
       "  Text(0.31451936170390227, 0.6253619520832474, '14.8%')])"
      ]
     },
     "execution_count": 13,
     "metadata": {},
     "output_type": "execute_result"
    },
    {
     "data": {
      "image/png": "[encoded data removed]",
      "text/plain": [
       "<Figure size 432x288 with 1 Axes>"
      ]
     },
     "metadata": {},
     "output_type": "display_data"
    }
   ],
   "source": [
    "#Data Visualization of the macronutrition in a pie chart\n",
    "plt.pie(macros(df), startangle=90, shadow=True, explode = (0.1, 0.1, 0.1), \n",
    "        labels = ('fat', 'carbs', 'protein'), autopct='%1.1f%%')"
   ]
  },
  {
   "cell_type": "markdown",
   "metadata": {},
   "source": [
    "# Health Tool Calculators from Data Input by User"
   ]
  },
  {
   "cell_type": "code",
   "execution_count": 14,
   "metadata": {},
   "outputs": [],
   "source": [
    "def bmi(h,w, units = 'pounds, inches'):\n",
    "    \"\"\" Input units = 'kilograms, meters' for metric \"\"\"\n",
    "    if units == 'pounds, inches':\n",
    "        return(703 * w / (h)**2)\n",
    "    if units == 'kilograms, meters':\n",
    "        return(w / h**2)"
   ]
  },
  {
   "cell_type": "code",
   "execution_count": 15,
   "metadata": {},
   "outputs": [],
   "source": [
    "def bmr(h,w,g,age, method = 1):\n",
    "    \"\"\" Enter 'male' or 'female' for gender. Enter weight in pounds, height in inches.\n",
    "        Method 1 uses the Revised Harris-Benedict Equation, Method 2 uses The Mifflin St Jeor Equation\"\"\"\n",
    "    #conversion of pounds to kg and cm to inches\n",
    "    w = 0.453592 * w\n",
    "    h = 2.54 * h\n",
    "    if method == 1:\n",
    "        if g == 'male':\n",
    "            BMR = 88.362 + 13.397*w + 4.799*h - 5.677*age\n",
    "        elif g == 'female':\n",
    "            BMR = 447.593 + 9.247*w + 3.098*h - 4.330*age\n",
    "    if method == 2:\n",
    "        if g == 'male':\n",
    "            BMR = 10*w + 6.25*h - 5*age + 5\n",
    "        elif g == 'female':\n",
    "            BMR = 10*w + 6.25*h - 5*age - 161\n",
    "    return (BMR)"
   ]
  },
  {
   "cell_type": "code",
   "execution_count": 16,
   "metadata": {},
   "outputs": [
    {
     "name": "stdout",
     "output_type": "stream",
     "text": [
      "Weight (lbs): 150\n",
      "Height (in): 70\n",
      "Age (years): 26\n",
      "Gender (male or female): male\n",
      "Your BMI:21.520408163265305\n",
      "Your BMR:1666.638\n",
      "Goal Weight: 145\n",
      "Goal BMI:20.803061224489795\n"
     ]
    }
   ],
   "source": [
    "#this will ask you line by line to input weight, height, age, gender and outputs BMI and BMR\n",
    "weight = float(input(\"Weight (lbs): \"))\n",
    "height = float(input('Height (in): '))\n",
    "age = float(input('Age (years): '))\n",
    "gender = input('Gender (male or female): ')\n",
    "print('Your BMI:' + str(bmi(height,weight)))\n",
    "print('Your BMR:' + str(bmr(height,weight, gender, age, method = 2)))\n",
    "goal_weight = float(input('Goal Weight: '))\n",
    "print('Goal BMI:' + str(bmi(height,goal_weight)))"
   ]
  },
  {
   "cell_type": "code",
   "execution_count": null,
   "metadata": {},
   "outputs": [],
   "source": []
  },
  {
   "cell_type": "code",
   "execution_count": null,
   "metadata": {},
   "outputs": [],
   "source": []
  },
  {
   "cell_type": "code",
   "execution_count": null,
   "metadata": {},
   "outputs": [],
   "source": [
    "#output maximum daily calories, and macros depending on diet. \n",
    "#output percent error from macros?\n",
    "#output time it would take to reach a desired weight eating only this food?\n",
    "#include rough body fat percent/lean muscle mass\n",
    "#show BMI, BMR, with calories used for minimal daily movement\n",
    "#input target macros ex type = keto or balanced by default\n",
    "#input a food and shows how far it deviates from your macros, weighted by calories"
   ]
  },
  {
   "cell_type": "code",
   "execution_count": null,
   "metadata": {},
   "outputs": [],
   "source": [
    "from ipywidgets import widgets\n",
    "from IPython.display import display\n",
    "text = widgets.Text()\n",
    "display(text)\n",
    "def handle_submit(sender):\n",
    "    print(text.value)\n",
    "    \n",
    "x = text.on_submit(handle_submit)\n",
    "weight = float(text.value)\n",
    "print(weight*2)"
   ]
  }
 ],
 "metadata": {
  "kernelspec": {
   "display_name": "Python 3",
   "language": "python",
   "name": "python3"
  },
  "language_info": {
   "codemirror_mode": {
    "name": "ipython",
    "version": 3
   },
   "file_extension": ".py",
   "mimetype": "text/x-python",
   "name": "python",
   "nbconvert_exporter": "python",
   "pygments_lexer": "ipython3",
   "version": "3.7.1"
  }
 },
 "nbformat": 4,
 "nbformat_minor": 2
}
